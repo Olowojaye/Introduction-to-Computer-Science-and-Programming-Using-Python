{
  "nbformat": 4,
  "nbformat_minor": 0,
  "metadata": {
    "colab": {
      "name": "Unit_2_Functions.ipynb",
      "provenance": [],
      "collapsed_sections": [],
      "authorship_tag": "ABX9TyOQbriWNl2HZeKNV4Fd7oai",
      "include_colab_link": true
    },
    "kernelspec": {
      "name": "python3",
      "display_name": "Python 3"
    },
    "language_info": {
      "name": "python"
    }
  },
  "cells": [
    {
      "cell_type": "markdown",
      "metadata": {
        "id": "view-in-github",
        "colab_type": "text"
      },
      "source": [
        "<a href=\"https://colab.research.google.com/github/Olowojaye/Introduction-to-Computer-Science-and-Programming-Using-Python/blob/main/Unit_2_Functions.ipynb\" target=\"_parent\"><img src=\"https://colab.research.google.com/assets/colab-badge.svg\" alt=\"Open In Colab\"/></a>"
      ]
    },
    {
      "cell_type": "code",
      "execution_count": 61,
      "metadata": {
        "colab": {
          "base_uri": "https://localhost:8080/"
        },
        "id": "QmTqOeg5JbVj",
        "outputId": "0c244813-fdff-4e07-a968-ba5da7ca0038"
      },
      "outputs": [
        {
          "output_type": "execute_result",
          "data": {
            "text/plain": [
              "27"
            ]
          },
          "metadata": {},
          "execution_count": 61
        }
      ],
      "source": [
        "def recurPower(base, exp):\n",
        "    '''\n",
        "    base: int or float.\n",
        "    exp: int >= 0\n",
        " \n",
        "    returns: int or float, base^exp\n",
        "    '''\n",
        "    # Your code here\n",
        "    if exp == 0:\n",
        "        return 1\n",
        "    else:\n",
        "        return base*recurPower(base, exp - 1)\n",
        "recurPower(3, 3)"
      ]
    },
    {
      "cell_type": "code",
      "source": [
        "def iterPower(base, exp):\n",
        "    '''\n",
        "    base: int or float.\n",
        "    exp: int >= 0\n",
        " \n",
        "    returns: int or float, base^exp\n",
        "    '''\n",
        "    # Your code here\n",
        "    result = 1\n",
        "    while exp > 0:\n",
        "        result *= base\n",
        "        exp -= 1\n",
        "    return result\n",
        "iterPower(3, 3)"
      ],
      "metadata": {
        "colab": {
          "base_uri": "https://localhost:8080/"
        },
        "id": "3Kxnkou0c8RQ",
        "outputId": "cb6aa8fc-2bce-4700-ef88-447745fab36e"
      },
      "execution_count": 16,
      "outputs": [
        {
          "output_type": "execute_result",
          "data": {
            "text/plain": [
              "27"
            ]
          },
          "metadata": {},
          "execution_count": 16
        }
      ]
    },
    {
      "cell_type": "markdown",
      "source": [
        "## **Exercise: gcd iter**\n",
        "\n",
        "The greatest common divisor of two positive integers is the largest integer that divides each of them without remainder. For example,\n",
        "\n",
        "gcd(2, 12) = 2\n",
        "\n",
        "gcd(6, 12) = 6\n",
        "\n",
        "gcd(9, 12) = 3\n",
        "\n",
        "gcd(17, 12) = 1\n",
        "\n",
        "Write an iterative function, gcdIter(a, b), that implements this idea. One easy way to do this is to begin with a test value equal to the smaller of the two input arguments, and iteratively reduce this test value by 1 until you either reach a case where the test divides both a and b without remainder, or you reach 1."
      ],
      "metadata": {
        "id": "FGvK8q6ylAMW"
      }
    },
    {
      "cell_type": "code",
      "source": [
        "def gcdIter(a, b):\n",
        "    '''\n",
        "    a, b: positive integers\n",
        "    \n",
        "    returns: a positive integer, the greatest common divisor of a & b.\n",
        "    '''\n",
        "    # Your code here\n",
        "    if a > b:\n",
        "      test = b\n",
        "    else:\n",
        "      test = a\n",
        "    while test > 1:\n",
        "      if a%test == 0 and b%test == 0:\n",
        "        break\n",
        "      else:\n",
        "        test -= 1\n",
        "    return test"
      ],
      "metadata": {
        "id": "Dko7yPt5jdkq"
      },
      "execution_count": 17,
      "outputs": []
    },
    {
      "cell_type": "markdown",
      "source": [
        "## **Exercise: gcd recur**\n",
        "\n",
        "The greatest common divisor of two positive integers is the largest integer that divides each of them without remainder. For example,\n",
        "\n",
        "gcd(2, 12) = 2\n",
        "\n",
        "gcd(6, 12) = 6\n",
        "\n",
        "gcd(9, 12) = 3\n",
        "\n",
        "gcd(17, 12) = 1\n",
        "\n",
        "A clever mathematical trick (due to Euclid) makes it easy to find greatest common divisors. Suppose that a and b are two positive integers:\n",
        "\n",
        "If b = 0, then the answer is a\n",
        "\n",
        "Otherwise, gcd(a, b) is the same as gcd(b, a % b)\n",
        "\n",
        "[See this website for an example of Euclid's algorithm being used to find the gcd.](https://en.wikipedia.org/wiki/Euclidean_algorithm#Worked_example)\n",
        "\n",
        "Write a function gcdRecur(a, b) that implements this idea recursively. This function takes in two positive integers and returns one integer."
      ],
      "metadata": {
        "id": "ciWnI3SmlWEG"
      }
    },
    {
      "cell_type": "code",
      "source": [
        "def gcdRecur(a, b):\n",
        "    '''\n",
        "    a, b: positive integers\n",
        "    \n",
        "    returns: a positive integer, the greatest common divisor of a & b.\n",
        "    '''\n",
        "    # Your code here\n",
        "    if b == 0:\n",
        "      return a\n",
        "    elif a == 0:\n",
        "      return b\n",
        "    elif a > b:\n",
        "      return gcdRecur(b, a%b)\n",
        "    else:\n",
        "      return gcdRecur(a, b%a)"
      ],
      "metadata": {
        "id": "h3bLiu8hldmD"
      },
      "execution_count": null,
      "outputs": []
    },
    {
      "cell_type": "markdown",
      "source": [
        "## **Exercise: is in**\n",
        "\n",
        "We can use the idea of **bisection search** to determine if a character is in a string, so long as the string is sorted in alphabetical order.\n",
        "\n",
        "First, test the middle character of a string against the character you're looking for (the \"test character\"). If they are the same, we are done - we've found the character we're looking for!\n",
        "\n",
        "If they're not the same, check if the test character is \"smaller\" than the middle character. If so, we need only consider the lower half of the string; otherwise, we only consider the upper half of the string. (Note that you can compare characters using Python's `<` function.)\n",
        "\n",
        "Implement the function `isIn(char, aStr)` which implements the above idea recursively to test if char is in `aStr`. char will be a single character and `aStr` will be a string that is in alphabetical order. The function should return a boolean value.\n",
        "\n",
        "As you design the function, think very carefully about what the base cases should be."
      ],
      "metadata": {
        "id": "16l9jeYDqpzk"
      }
    },
    {
      "cell_type": "code",
      "source": [
        "def isIn(char, aStr):\n",
        "    '''\n",
        "    char: a single character\n",
        "    aStr: an alphabetized string\n",
        "    \n",
        "    returns: True if char is in aStr; False otherwise\n",
        "    '''\n",
        "    # Your code here\n",
        "    if len(aStr) == 1 and char == aStr:\n",
        "      return True\n",
        "    elif aStr == '':\n",
        "      return False\n",
        "    elif len(aStr) == 1 and char != aStr:\n",
        "      return False\n",
        "    elif aStr[-1] == char:\n",
        "      return True\n",
        "    elif aStr[0] > char:\n",
        "      return False\n",
        "    elif aStr[0] == char:\n",
        "      return True\n",
        "    elif aStr[-1] < char:\n",
        "      return False\n",
        "    elif len(aStr) == 2 and aStr[0] != char and aStr[-1] != char:\n",
        "      return False\n",
        "    elif aStr[len(aStr)//2] == char:\n",
        "      return True\n",
        "    elif aStr[len(aStr)//2] > char:\n",
        "      return isIn(char, aStr[0:(len(aStr)//2)+1])\n",
        "    else:\n",
        "      return isIn(char, aStr[(len(aStr)//2):-1])"
      ],
      "metadata": {
        "id": "h1esv8Y5qzz9"
      },
      "execution_count": 59,
      "outputs": []
    },
    {
      "cell_type": "code",
      "source": [
        "isIn('c', 'adhjjos')"
      ],
      "metadata": {
        "colab": {
          "base_uri": "https://localhost:8080/"
        },
        "id": "aKd_VhITtxDS",
        "outputId": "583dd53d-848c-4318-c148-0d6de9ac784b"
      },
      "execution_count": 60,
      "outputs": [
        {
          "output_type": "execute_result",
          "data": {
            "text/plain": [
              "False"
            ]
          },
          "metadata": {},
          "execution_count": 60
        }
      ]
    }
  ]
}
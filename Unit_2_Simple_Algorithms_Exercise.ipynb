{
  "nbformat": 4,
  "nbformat_minor": 0,
  "metadata": {
    "colab": {
      "name": "Unit_2_Simple_Algorithms_Exercise.ipynb",
      "provenance": [],
      "authorship_tag": "ABX9TyN94HDQiBrDejPnCVShN1pS",
      "include_colab_link": true
    },
    "kernelspec": {
      "name": "python3",
      "display_name": "Python 3"
    },
    "language_info": {
      "name": "python"
    }
  },
  "cells": [
    {
      "cell_type": "markdown",
      "metadata": {
        "id": "view-in-github",
        "colab_type": "text"
      },
      "source": [
        "<a href=\"https://colab.research.google.com/github/Olowojaye/Introduction-to-Computer-Science-and-Programming-Using-Python/blob/main/Unit_2_Simple_Algorithms_Exercise.ipynb\" target=\"_parent\"><img src=\"https://colab.research.google.com/assets/colab-badge.svg\" alt=\"Open In Colab\"/></a>"
      ]
    },
    {
      "cell_type": "markdown",
      "source": [
        "# **Exercise: guess my number**\n",
        "\n",
        "In this problem, you'll create a program that guesses a secret number!\n",
        "\n",
        "The program works as follows: you (the user) thinks of an integer between 0 (inclusive) and 100 (not inclusive). The computer makes guesses, and you give it input - is its guess too high or too low? Using bisection search, the computer will guess the user's secret number!\n",
        "\n",
        "Here is a transcript of an example session:\n",
        "\n",
        "```\n",
        "Please think of a number between 0 and 100!\n",
        "Is your secret number 50?\n",
        "Enter 'h' to indicate the guess is too high. Enter 'l' to indicate the guess is too low. Enter 'c' to indicate I guessed correctly. l\n",
        "Is your secret number 75?\n",
        "Enter 'h' to indicate the guess is too high. Enter 'l' to indicate the guess is too low. Enter 'c' to indicate I guessed correctly. l\n",
        "Is your secret number 87?\n",
        "Enter 'h' to indicate the guess is too high. Enter 'l' to indicate the guess is too low. Enter 'c' to indicate I guessed correctly. h\n",
        "Is your secret number 81?\n",
        "Enter 'h' to indicate the guess is too high. Enter 'l' to indicate the guess is too low. Enter 'c' to indicate I guessed correctly. l\n",
        "Is your secret number 84?\n",
        "Enter 'h' to indicate the guess is too high. Enter 'l' to indicate the guess is too low. Enter 'c' to indicate I guessed correctly. h\n",
        "Is your secret number 82?\n",
        "Enter 'h' to indicate the guess is too high. Enter 'l' to indicate the guess is too low. Enter 'c' to indicate I guessed correctly. l\n",
        "Is your secret number 83?\n",
        "Enter 'h' to indicate the guess is too high. Enter 'l' to indicate the guess is too low. Enter 'c' to indicate I guessed correctly. c\n",
        "Game over. Your secret number was: 83\n",
        "```\n",
        "\n"
      ],
      "metadata": {
        "id": "Y4eeQwiEh-Mw"
      }
    },
    {
      "cell_type": "code",
      "execution_count": 7,
      "metadata": {
        "colab": {
          "base_uri": "https://localhost:8080/"
        },
        "id": "lwqFN58XcxPK",
        "outputId": "073c24dd-7988-4137-a32f-ab88313fb6cc"
      },
      "outputs": [
        {
          "output_type": "stream",
          "name": "stdout",
          "text": [
            "Please think of a number between 0 and 100!\n",
            "Is your secret number 50\n",
            "Enter 'h' to indicate the guess is too high. Enter 'l' to indicate the guess is too low. Enter 'c' to indicate I guessed correctly.l\n",
            "Is your secret number 75\n",
            "Enter 'h' to indicate the guess is too high. Enter 'l' to indicate the guess is too low. Enter 'c' to indicate I guessed correctly.l\n",
            "Is your secret number 87\n",
            "Enter 'h' to indicate the guess is too high. Enter 'l' to indicate the guess is too low. Enter 'c' to indicate I guessed correctly.h\n",
            "Is your secret number 81\n",
            "Enter 'h' to indicate the guess is too high. Enter 'l' to indicate the guess is too low. Enter 'c' to indicate I guessed correctly.l\n",
            "Is your secret number 84\n",
            "Enter 'h' to indicate the guess is too high. Enter 'l' to indicate the guess is too low. Enter 'c' to indicate I guessed correctly.h\n",
            "Is your secret number 82\n",
            "Enter 'h' to indicate the guess is too high. Enter 'l' to indicate the guess is too low. Enter 'c' to indicate I guessed correctly.l\n",
            "Is your secret number 83\n",
            "Enter 'h' to indicate the guess is too high. Enter 'l' to indicate the guess is too low. Enter 'c' to indicate I guessed correctly.c\n",
            "Game over. Your secret number was 83\n"
          ]
        }
      ],
      "source": [
        "high = 100\n",
        "low = 0\n",
        "print('Please think of a number between 0 and 100!')\n",
        "while True:\n",
        "  mid = (high+low)//2\n",
        "  print(\"Is your secret number \" + str(mid))\n",
        "  response = input(\"Enter 'h' to indicate the guess is too high. Enter 'l' to indicate the guess is too low. Enter 'c' to indicate I guessed correctly.\")\n",
        "  if response == 'h':\n",
        "    high = mid\n",
        "  elif response == 'l':\n",
        "    low = mid\n",
        "  elif response == 'c':\n",
        "    print('Game over. Your secret number was ' + str(mid))\n",
        "    break\n",
        "  else:\n",
        "    print('Sorry, I did not understand your input.')"
      ]
    }
  ]
}
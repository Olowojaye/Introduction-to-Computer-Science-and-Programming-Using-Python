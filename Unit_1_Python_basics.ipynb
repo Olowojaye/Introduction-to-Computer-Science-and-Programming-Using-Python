{
  "nbformat": 4,
  "nbformat_minor": 0,
  "metadata": {
    "colab": {
      "name": "Unit_1_Python_basics.ipynb",
      "provenance": [],
      "collapsed_sections": [],
      "authorship_tag": "ABX9TyOPZKWhSwQ/xWPrMqiu940I",
      "include_colab_link": true
    },
    "kernelspec": {
      "name": "python3",
      "display_name": "Python 3"
    },
    "language_info": {
      "name": "python"
    }
  },
  "cells": [
    {
      "cell_type": "markdown",
      "metadata": {
        "id": "view-in-github",
        "colab_type": "text"
      },
      "source": [
        "<a href=\"https://colab.research.google.com/github/Olowojaye/Introduction-to-Computer-Science-and-Programming-Using-Python/blob/main/Unit_1_Python_basics.ipynb\" target=\"_parent\"><img src=\"https://colab.research.google.com/assets/colab-badge.svg\" alt=\"Open In Colab\"/></a>"
      ]
    },
    {
      "cell_type": "markdown",
      "source": [
        "# **Problem 1**\n",
        "Write a program that counts up the number of vowels contained in the string s. Valid vowels are: 'a', 'e', 'i', 'o', and 'u'. For example, if s = 'azcbobobegghakl', your program should print:\n",
        "\n",
        "`Number of vowels: 5`\n"
      ],
      "metadata": {
        "id": "VqBI-vH4epEn"
      }
    },
    {
      "cell_type": "code",
      "execution_count": 3,
      "metadata": {
        "colab": {
          "base_uri": "https://localhost:8080/"
        },
        "id": "Ommmb8-lLOuH",
        "outputId": "0481a89e-2208-44b5-c23f-d5306a5baefe"
      },
      "outputs": [
        {
          "output_type": "stream",
          "name": "stdout",
          "text": [
            "Number of vowels: 8\n"
          ]
        }
      ],
      "source": [
        "s = 'My wife is beautiful'\n",
        "count = 0\n",
        "for letter in s:\n",
        "    if letter in 'aeiou':\n",
        "        count += 1\n",
        "print('Number of vowels: ' + str(count))"
      ]
    },
    {
      "cell_type": "markdown",
      "source": [
        "# **Problem 2**\n",
        "Assume s is a string of lower case characters.\n",
        "\n",
        "Write a program that prints the number of times the string 'bob' occurs in s. For example, if s = 'azcbobobegghakl', then your program should print\n",
        "\n",
        "`Number of times bob occurs is: 2`"
      ],
      "metadata": {
        "id": "cjkBKSaJe-Wm"
      }
    },
    {
      "cell_type": "code",
      "source": [
        "s = 'azcbobobegghakl'\n",
        "count = 0\n",
        "for i, letter in enumerate(s):\n",
        "    if s[i:i+3] == 'bob':\n",
        "        count += 1\n",
        "print('Number of times bob occurs is: ' + str(count))"
      ],
      "metadata": {
        "colab": {
          "base_uri": "https://localhost:8080/"
        },
        "id": "DgNovGJ8r0IF",
        "outputId": "afa3cbe6-8a57-48b0-a1ca-14d6ffbec97f"
      },
      "execution_count": 4,
      "outputs": [
        {
          "output_type": "stream",
          "name": "stdout",
          "text": [
            "Number of times bob occurs is: 2\n"
          ]
        }
      ]
    },
    {
      "cell_type": "markdown",
      "source": [
        "# **Problem 3**\n",
        "Assume s is a string of lower case characters.\n",
        "\n",
        "Write a program that prints the longest substring of s in which the letters occur in alphabetical order. For example, if s = 'azcbobobegghakl', then your program should print\n",
        "\n",
        "`Longest substring in alphabetical order is: beggh`\n",
        "\n",
        "In the case of ties, print the first substring. For example, if s = 'abcbcd', then your program should print\n",
        "\n",
        "`Longest substring in alphabetical order is: abc`"
      ],
      "metadata": {
        "id": "nw7r5W60fx6h"
      }
    },
    {
      "cell_type": "code",
      "source": [
        "s = 'abcbcd'\n",
        "substr = ''\n",
        "ord_list = []\n",
        "for i, letter in enumerate(s):\n",
        "    j = i + 1\n",
        "    while j < len(s) and s[j-1] <= s[j]:\n",
        "            substr = s[i:j+1]\n",
        "            ord_list.append(substr)\n",
        "            j += 1\n",
        "longest_substr = max(ord_list, key=len)\n",
        "print('Longest substring in alphabetical order is: ' + longest_substr)"
      ],
      "metadata": {
        "colab": {
          "base_uri": "https://localhost:8080/"
        },
        "id": "7GJmFE4TzSQ5",
        "outputId": "b2e635ea-92d2-4876-bac3-5a0efbb3b081"
      },
      "execution_count": 5,
      "outputs": [
        {
          "output_type": "stream",
          "name": "stdout",
          "text": [
            "Longest substring in alphabetical order is: abc\n"
          ]
        }
      ]
    }
  ]
}